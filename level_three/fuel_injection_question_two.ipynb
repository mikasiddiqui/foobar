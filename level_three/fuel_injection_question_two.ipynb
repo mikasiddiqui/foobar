{
 "cells": [
  {
   "cell_type": "code",
   "execution_count": 5,
   "metadata": {
    "collapsed": true
   },
   "outputs": [],
   "source": [
    "def reduce_num(n):\n",
    "    if n % 2 == 0:\n",
    "        return n // 2\n",
    "    elif (n % 4 == 1) or (n == 3):\n",
    "        return n - 1\n",
    "    return n + 1"
   ]
  },
  {
   "cell_type": "code",
   "execution_count": 8,
   "metadata": {
    "collapsed": true
   },
   "outputs": [],
   "source": [
    "def solution(n):\n",
    "    step_num = 0\n",
    "    result = int(n)\n",
    "    while result != 1:\n",
    "        step_num += 1\n",
    "        result = reduce_num(result)\n",
    "    return step_num"
   ]
  }
 ],
 "metadata": {
  "kernelspec": {
   "display_name": "Python 3",
   "language": "python",
   "name": "python3"
  },
  "language_info": {
   "codemirror_mode": {
    "name": "ipython",
    "version": 3
   },
   "file_extension": ".py",
   "mimetype": "text/x-python",
   "name": "python",
   "nbconvert_exporter": "python",
   "pygments_lexer": "ipython3",
   "version": "3.6.2"
  }
 },
 "nbformat": 4,
 "nbformat_minor": 2
}
