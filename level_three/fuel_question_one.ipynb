{
 "cells": [
  {
   "cell_type": "code",
   "execution_count": 1,
   "metadata": {
    "collapsed": true
   },
   "outputs": [],
   "source": [
    "from fractions import Fraction\n",
    "import functools\n",
    "import math"
   ]
  },
  {
   "cell_type": "code",
   "execution_count": 2,
   "metadata": {
    "collapsed": true
   },
   "outputs": [],
   "source": [
    "def format_matrix(transition_matrix, absorbing, non_absorbing):\n",
    "    format_rows = []\n",
    "    for i in absorbing:\n",
    "        row_sum = sum(transition_matrix[i])\n",
    "        if row_sum == 0:\n",
    "            row_sum = 1\n",
    "        frac_row = [Fraction(x,row_sum) for x in transition_matrix[i]]\n",
    "        format_rows.append(frac_row)\n",
    "    for i in non_absorbing:\n",
    "        row_sum = sum(transition_matrix[i])\n",
    "        frac_row = [Fraction(x,row_sum) for x in transition_matrix[i]]\n",
    "        format_rows.append(frac_row)\n",
    "    formatted_matrix = [[x[i] for i in absorbing + non_absorbing] for x in format_rows]\n",
    "    return formatted_matrix"
   ]
  },
  {
   "cell_type": "code",
   "execution_count": 3,
   "metadata": {
    "collapsed": true
   },
   "outputs": [],
   "source": [
    "def create_identity_matrix(num):\n",
    "    I = []\n",
    "    for i in range(num):\n",
    "        temp_row = [Fraction(0,1)]*num\n",
    "        temp_row[i] = Fraction(1,1)\n",
    "        I.append(temp_row)\n",
    "    return I"
   ]
  },
  {
   "cell_type": "code",
   "execution_count": 4,
   "metadata": {
    "collapsed": true
   },
   "outputs": [],
   "source": [
    "def get_canonical_form(formatted_matrix, absorbing, non_absorbing):\n",
    "    non_absorbing_rows = formatted_matrix[-len(non_absorbing):]\n",
    "    R = []\n",
    "    Q = []\n",
    "    for row in non_absorbing_rows:\n",
    "        Q.append(row[-len(non_absorbing):])\n",
    "        R.append(row[:len(absorbing)])\n",
    "    return Q, R"
   ]
  },
  {
   "cell_type": "code",
   "execution_count": 5,
   "metadata": {
    "collapsed": true
   },
   "outputs": [],
   "source": [
    "def get_absorbing_elements(transition_matrix):\n",
    "    absorbing = []\n",
    "    non_absorbing = []\n",
    "    for i in range(len(transition_matrix)):\n",
    "        if sum(transition_matrix[i]) == 0:\n",
    "            absorbing.append(i)\n",
    "        else:\n",
    "            non_absorbing.append(i)\n",
    "    return absorbing, non_absorbing"
   ]
  },
  {
   "cell_type": "code",
   "execution_count": 6,
   "metadata": {
    "collapsed": true
   },
   "outputs": [],
   "source": [
    "def subtract_matrices(I, Q):\n",
    "    N_prime = []\n",
    "    I_new, Q_new = list(I), list(Q)\n",
    "    for i in range(len(Q)):\n",
    "        Q_row = Q_new[i]\n",
    "        I_row = I_new[i]\n",
    "        temp_row = []\n",
    "        for j in range(len(Q_row)):\n",
    "            n = I_row[j] - Q_row[j]\n",
    "            temp_row.append(n)\n",
    "        N_prime.append(temp_row)\n",
    "    return N_prime"
   ]
  },
  {
   "cell_type": "code",
   "execution_count": 7,
   "metadata": {
    "collapsed": true
   },
   "outputs": [],
   "source": [
    "def getMatrixMinor(m,i,j):\n",
    "    return [row[:j] + row[j+1:] for row in (m[:i]+m[i+1:])]\n",
    "\n",
    "def getMatrixDeterminant(m):\n",
    "    #base case for 2x2 matrix\n",
    "    if len(m) == 2:\n",
    "        return m[0][0]*m[1][1]-m[0][1]*m[1][0]\n",
    "\n",
    "    determinant = 0\n",
    "    for c in range(len(m)):\n",
    "        determinant += ((-1)**c)*m[0][c]*getMatrixDeterminant(getMatrixMinor(m,0,c))\n",
    "    return determinant"
   ]
  },
  {
   "cell_type": "code",
   "execution_count": 8,
   "metadata": {},
   "outputs": [],
   "source": [
    "def get_sub_determinants(M):\n",
    "    sub_determinants = []\n",
    "    for row_index in range(len(M)):\n",
    "        new_M = list(M)\n",
    "        new_M.pop(row_index)\n",
    "        sub_det_row = []\n",
    "        for i in range(len(M)):\n",
    "            temp_det = []\n",
    "            for row in new_M:\n",
    "                removed_elem = list(row)\n",
    "                removed_elem.pop(i)\n",
    "                temp_det.append(removed_elem)\n",
    "            sub_det_row.append(getMatrixDeterminant(temp_det))\n",
    "        sub_determinants.append(sub_det_row)\n",
    "    return sub_determinants"
   ]
  },
  {
   "cell_type": "code",
   "execution_count": 9,
   "metadata": {},
   "outputs": [],
   "source": [
    "def get_sub_formatted(sub_determinants):\n",
    "    sub_formatted = []\n",
    "    for i in range(len(sub_determinants)):\n",
    "        new_row = [sub_determinants[x][i] for x in range(len(sub_determinants))]\n",
    "        sub_formatted.append(new_row)\n",
    "    return sub_formatted"
   ]
  },
  {
   "cell_type": "code",
   "execution_count": 10,
   "metadata": {},
   "outputs": [],
   "source": [
    "def get_2_by_2(N_prime):\n",
    "    new_N = [\n",
    "        [\n",
    "            N_prime[1][1], \n",
    "            -N_prime[0][1]\n",
    "        ],\n",
    "        [\n",
    "            -N_prime[1][0],\n",
    "            N_prime[0][0]\n",
    "        ]\n",
    "    ]\n",
    "    return new_N"
   ]
  },
  {
   "cell_type": "code",
   "execution_count": 11,
   "metadata": {},
   "outputs": [],
   "source": [
    "def get_adj_matrix(sub_formatted):\n",
    "    adj_matrix = []\n",
    "    for row in sub_formatted:\n",
    "        new_row = []\n",
    "        for i in range(len(row)):\n",
    "            if i % 2 == 0:\n",
    "                new_row.append(row[i])\n",
    "            else:\n",
    "                new_row.append(-1*row[i])\n",
    "        adj_matrix.append(new_row)\n",
    "    return adj_matrix"
   ]
  },
  {
   "cell_type": "code",
   "execution_count": 12,
   "metadata": {},
   "outputs": [],
   "source": [
    "def return_adj(N_prime):\n",
    "    if len(N_prime) > 2:\n",
    "        sub_determinants = get_sub_determinants(N_prime)\n",
    "        sub_formatted = get_sub_formatted(sub_determinants)\n",
    "        adj_matrix = get_adj_matrix(sub_formatted)\n",
    "    else:\n",
    "        adj_matrix = get_2_by_2(N_prime)\n",
    "    return adj_matrix"
   ]
  },
  {
   "cell_type": "code",
   "execution_count": 13,
   "metadata": {},
   "outputs": [],
   "source": [
    "def get_N(N_prime, adj_matrix):\n",
    "    N = []\n",
    "    N_prime_det = 1/getMatrixDeterminant(N_prime)\n",
    "    for row in adj_matrix:\n",
    "        new_row = []\n",
    "        for elem in row:\n",
    "            new_row.append(elem*N_prime_det)\n",
    "        N.append(new_row)\n",
    "    return N"
   ]
  },
  {
   "cell_type": "code",
   "execution_count": 14,
   "metadata": {},
   "outputs": [],
   "source": [
    "def dot(m1, m2):\n",
    "    return [\n",
    "        [sum(x * y for x, y in zip(m1_r, m2_c)) for m2_c in zip(*m2)] for m1_r in m1\n",
    "    ]"
   ]
  },
  {
   "cell_type": "code",
   "execution_count": 15,
   "metadata": {},
   "outputs": [],
   "source": [
    "def get_main_result(main_row_result):\n",
    "    denoms = [x.denominator for x in main_row_result]\n",
    "    common_denom = functools.reduce(lambda a,b: a*b//math.gcd(a,b), denoms)\n",
    "    result = []\n",
    "    for x in main_row_result:\n",
    "        n = x.numerator\n",
    "        denom_list = [x.denominator, common_denom]\n",
    "        multiplier = int(max(denom_list) / min(denom_list))\n",
    "        n = n*multiplier\n",
    "        result.append(n)\n",
    "    result.append(common_denom)\n",
    "    return result"
   ]
  },
  {
   "cell_type": "code",
   "execution_count": 21,
   "metadata": {},
   "outputs": [],
   "source": [
    "def solution(transition_matrix):\n",
    "    absorbing, non_absorbing = get_absorbing_elements(transition_matrix)\n",
    "    formatted_matrix = format_matrix(transition_matrix, absorbing, non_absorbing)\n",
    "    Q, R= get_canonical_form(formatted_matrix, absorbing, non_absorbing)\n",
    "    I = create_identity_matrix(len(Q))\n",
    "    N_prime = subtract_matrices(I,Q)\n",
    "    adj_matrix = return_adj(N_prime)\n",
    "    N = get_N(N_prime, adj_matrix)\n",
    "    \n",
    "    main_row_result = dot(N, R)[0]\n",
    "    result = get_main_result(main_row_result)\n",
    "    \n",
    "    return result"
   ]
  },
  {
   "cell_type": "code",
   "execution_count": 22,
   "metadata": {
    "collapsed": true
   },
   "outputs": [],
   "source": [
    "test_case_one = [\n",
    "    [0, 1, 0, 0, 0, 1], \n",
    "    [4, 0, 0, 3, 2, 0], \n",
    "    [0, 0, 0, 0, 0, 0], \n",
    "    [0, 0, 0, 0, 0, 0], \n",
    "    [0, 0, 0, 0, 0, 0], \n",
    "    [0, 0, 0, 0, 0, 0]\n",
    "]\n",
    "\n",
    "test_case_two = [\n",
    "    [0, 2, 1, 0, 0], \n",
    "    [0, 0, 0, 3, 4], \n",
    "    [0, 0, 0, 0, 0], \n",
    "    [0, 0, 0, 0,0], \n",
    "    [0, 0, 0, 0, 0]\n",
    "]\n",
    "\n"
   ]
  },
  {
   "cell_type": "code",
   "execution_count": 26,
   "metadata": {},
   "outputs": [
    {
     "data": {
      "text/plain": [
       "True"
      ]
     },
     "metadata": {},
     "output_type": "display_data"
    },
    {
     "data": {
      "text/plain": [
       "True"
      ]
     },
     "metadata": {},
     "output_type": "display_data"
    }
   ],
   "source": [
    "display(solution(test_case_one) == [0, 3, 2, 9, 14])\n",
    "display(solution(test_case_two) == [7, 6, 8, 21])"
   ]
  },
  {
   "cell_type": "code",
   "execution_count": null,
   "metadata": {},
   "outputs": [],
   "source": []
  }
 ],
 "metadata": {
  "kernelspec": {
   "display_name": "Python 3",
   "language": "python",
   "name": "python3"
  },
  "language_info": {
   "codemirror_mode": {
    "name": "ipython",
    "version": 3
   },
   "file_extension": ".py",
   "mimetype": "text/x-python",
   "name": "python",
   "nbconvert_exporter": "python",
   "pygments_lexer": "ipython3",
   "version": "3.7.3"
  }
 },
 "nbformat": 4,
 "nbformat_minor": 2
}
