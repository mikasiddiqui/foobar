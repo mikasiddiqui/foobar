{
 "cells": [
  {
   "cell_type": "code",
   "execution_count": 9,
   "metadata": {},
   "outputs": [],
   "source": [
    "def solution(s):\n",
    "    final_string = \"\"\n",
    "    capitals = \"ABCDEFGHIJKLMNOPQRSTUVWXYZ\"\n",
    "    braille_dict = {\n",
    "        'a': '100000',\n",
    "        'b': '110000',\n",
    "        'c': '100100',\n",
    "        'd': '100110',\n",
    "        'e': '100010',\n",
    "        'f': '110100',\n",
    "        'g': '110110',\n",
    "        'h': '110010',\n",
    "        'i': '010100',\n",
    "        'j': '010110',\n",
    "        'k': '101000',\n",
    "        'l': '111000',\n",
    "        'm': '101100',\n",
    "        'n': '101110',\n",
    "        'o': '101010',\n",
    "        'p': '111100',\n",
    "        'q': '111110',\n",
    "        'r': '111010',\n",
    "        's': '011100',\n",
    "        't': '011110',\n",
    "        'u': '101001',\n",
    "        'v': '111001',\n",
    "        'w': '010111',\n",
    "        'x': '101101',\n",
    "        'y': '101111',\n",
    "        'z': '101011',\n",
    "        ' ': '000000'\n",
    "    }\n",
    "    for character in s:\n",
    "        if character in capitals:\n",
    "            braille_char = '000001' + braille_dict[character.lower()]\n",
    "        else:\n",
    "            braille_char = braille_dict[character.lower()]\n",
    "        final_string += braille_char\n",
    "    return final_string"
   ]
  },
  {
   "cell_type": "code",
   "execution_count": null,
   "metadata": {},
   "outputs": [],
   "source": []
  }
 ],
 "metadata": {
  "kernelspec": {
   "display_name": "Python 3",
   "language": "python",
   "name": "python3"
  },
  "language_info": {
   "codemirror_mode": {
    "name": "ipython",
    "version": 3
   },
   "file_extension": ".py",
   "mimetype": "text/x-python",
   "name": "python",
   "nbconvert_exporter": "python",
   "pygments_lexer": "ipython3",
   "version": "3.7.3"
  }
 },
 "nbformat": 4,
 "nbformat_minor": 2
}
