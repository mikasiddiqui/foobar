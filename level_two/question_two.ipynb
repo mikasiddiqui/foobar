{
 "cells": [
  {
   "cell_type": "code",
   "execution_count": 1,
   "metadata": {
    "collapsed": true
   },
   "outputs": [],
   "source": [
    "def takeFirst(elem):\n",
    "    return elem[0]"
   ]
  },
  {
   "cell_type": "code",
   "execution_count": 2,
   "metadata": {
    "collapsed": true
   },
   "outputs": [],
   "source": [
    "def solution(l):\n",
    "    l = sorted(l)\n",
    "    l_new = []\n",
    "    for i in range(len(l)):\n",
    "        version = list(l)[i]\n",
    "        version_list = version.split(\".\")\n",
    "        version_list += [0]*(3-len(version_list))\n",
    "        version_list = [int(x) for x in version_list]\n",
    "        l_new.append([version_list, version])\n",
    "    result_list = sorted(l_new, key=takeFirst)\n",
    "    result = [x[1] for x in result_list]\n",
    "    return result"
   ]
  }
 ],
 "metadata": {
  "kernelspec": {
   "display_name": "Python 3",
   "language": "python",
   "name": "python3"
  },
  "language_info": {
   "codemirror_mode": {
    "name": "ipython",
    "version": 3
   },
   "file_extension": ".py",
   "mimetype": "text/x-python",
   "name": "python",
   "nbconvert_exporter": "python",
   "pygments_lexer": "ipython3",
   "version": "3.7.3"
  }
 },
 "nbformat": 4,
 "nbformat_minor": 2
}
