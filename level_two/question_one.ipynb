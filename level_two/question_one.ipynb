{
 "cells": [
  {
   "cell_type": "code",
   "execution_count": 78,
   "metadata": {},
   "outputs": [],
   "source": [
    "def solution(l,t):\n",
    "    l = list(l)\n",
    "    try:\n",
    "        for pointer in range(len(l)):\n",
    "            index_list = []\n",
    "            iterator = pointer\n",
    "            result = 0\n",
    "            while result <= t:\n",
    "                if result == t and len(index_list) > 1:\n",
    "                    return [index_list[0], index_list[-1]]\n",
    "                else:\n",
    "                    index_list.append(iterator)\n",
    "                    result += l[iterator]\n",
    "                    iterator += 1\n",
    "    except:\n",
    "        return [-1,-1]\n",
    "    return [-1,-1]"
   ]
  }
 ],
 "metadata": {
  "kernelspec": {
   "display_name": "Python 3",
   "language": "python",
   "name": "python3"
  },
  "language_info": {
   "codemirror_mode": {
    "name": "ipython",
    "version": 3
   },
   "file_extension": ".py",
   "mimetype": "text/x-python",
   "name": "python",
   "nbconvert_exporter": "python",
   "pygments_lexer": "ipython3",
   "version": "3.7.3"
  }
 },
 "nbformat": 4,
 "nbformat_minor": 2
}
